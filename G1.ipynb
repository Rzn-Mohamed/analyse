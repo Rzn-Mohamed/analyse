{
 "cells": [
  {
   "cell_type": "code",
   "execution_count": 6,
   "metadata": {},
   "outputs": [],
   "source": [
    "import pandas as pd \n",
    "import numpy as mp\n",
    "import matplotlib.pylab as plt\n",
    "from thefuzz import fuzz\n",
    "plt.style.use('ggplot')"
   ]
  },
  {
   "cell_type": "code",
   "execution_count": 7,
   "metadata": {},
   "outputs": [],
   "source": [
    "data = pd.read_csv('amazon.csv')"
   ]
  },
  {
   "cell_type": "code",
   "execution_count": 8,
   "metadata": {},
   "outputs": [
    {
     "name": "stdout",
     "output_type": "stream",
     "text": [
      "Index(['show_id', 'type', 'title', 'director', 'cast', 'country', 'date_added',\n",
      "       'release_year', 'rating', 'duration', 'listed_in', 'description'],\n",
      "      dtype='object')\n"
     ]
    }
   ],
   "source": [
    "print(data.columns)"
   ]
  },
  {
   "cell_type": "code",
   "execution_count": 9,
   "metadata": {},
   "outputs": [
    {
     "name": "stdout",
     "output_type": "stream",
     "text": [
      "(9668, 12)\n"
     ]
    }
   ],
   "source": [
    "print(data.shape)"
   ]
  },
  {
   "cell_type": "code",
   "execution_count": 13,
   "metadata": {},
   "outputs": [
    {
     "name": "stdout",
     "output_type": "stream",
     "text": [
      "  show_id   type                 title      director  \\\n",
      "0      s1  Movie   The Grand Seduction  Don McKellar   \n",
      "1      s2  Movie  Take Care Good Night  Girish Joshi   \n",
      "2      s3  Movie  Secrets of Deception   Josh Webber   \n",
      "\n",
      "                                                cast        country  \\\n",
      "0     Brendan Gleeson, Taylor Kitsch, Gordon Pinsent         Canada   \n",
      "1   Mahesh Manjrekar, Abhay Mahajan, Sachin Khedekar          India   \n",
      "2  Tom Sizemore, Lorenzo Lamas, Robert LaSardo, R...  United States   \n",
      "\n",
      "       date_added  release_year rating duration                listed_in  \\\n",
      "0  March 30, 2021          2014    NaN  113 min            Comedy, Drama   \n",
      "1  March 30, 2021          2018    13+  110 min     Drama, International   \n",
      "2  March 30, 2021          2017    NaN   74 min  Action, Drama, Suspense   \n",
      "\n",
      "                                         description  \n",
      "0  A small fishing village must procure a local d...  \n",
      "1  A Metro Family decides to fight a Cyber Crimin...  \n",
      "2  After a man discovers his wife is cheating on ...  \n"
     ]
    }
   ],
   "source": [
    "print(data.head(3))"
   ]
  },
  {
   "cell_type": "markdown",
   "metadata": {},
   "source": [
    "# Top 5 des meilleures catégories."
   ]
  },
  {
   "cell_type": "code",
   "execution_count": 17,
   "metadata": {},
   "outputs": [
    {
     "name": "stdout",
     "output_type": "stream",
     "text": [
      "Index(['show_id', 'type', 'title', 'director', 'cast', 'country', 'date_added',\n",
      "       'release_year', 'rating', 'duration', 'listed_in', 'description'],\n",
      "      dtype='object')\n"
     ]
    }
   ],
   "source": [
    "print(data.columns)"
   ]
  },
  {
   "cell_type": "code",
   "execution_count": 20,
   "metadata": {},
   "outputs": [
    {
     "name": "stdout",
     "output_type": "stream",
     "text": [
      "Drama        2216\n",
      "Action       1657\n",
      "Comedy       1475\n",
      " Drama       1471\n",
      " Suspense    1307\n",
      "Name: count, dtype: int64\n"
     ]
    }
   ],
   "source": [
    "cat = data[\"listed_in\"].apply(lambda c:pd.Series(c.split(\",\"))).stack().reset_index(drop=True)\n",
    "res = cat.value_counts().head(5)\n",
    "print(res)"
   ]
  },
  {
   "cell_type": "markdown",
   "metadata": {},
   "source": [
    " # Top 5 des réalisateurs.\n",
    " "
   ]
  },
  {
   "cell_type": "code",
   "execution_count": 21,
   "metadata": {},
   "outputs": [
    {
     "name": "stdout",
     "output_type": "stream",
     "text": [
      "Mark Knight              113.0\n",
      "Cannis Holder             61.0\n",
      "Moonbug Entertainment     37.0\n",
      "Jay Chapman               34.0\n",
      "Arthur van Merwijk        30.0\n",
      "dtype: float64\n"
     ]
    }
   ],
   "source": [
    "dir = data['director'].apply(lambda d: pd.Series(d).value_counts()).sum().sort_values(ascending=False).head(5)\n",
    "print(dir)"
   ]
  },
  {
   "cell_type": "markdown",
   "metadata": {},
   "source": [
    "# Les dix meilleurs acteurs."
   ]
  },
  {
   "cell_type": "code",
   "execution_count": 24,
   "metadata": {},
   "outputs": [
    {
     "name": "stdout",
     "output_type": "stream",
     "text": [
      "Maggie Binkley        56\n",
      "1                     35\n",
      "Gene Autry            32\n",
      "Nassar                30\n",
      "Champion              29\n",
      "Anne-Marie Newland    25\n",
      "Prakash Raj           24\n",
      "John Wayne            23\n",
      "Roy Rogers            23\n",
      "Danny Trejo           22\n",
      "Name: count, dtype: int64\n"
     ]
    }
   ],
   "source": [
    "actors =data['cast'].str.split(', ', expand=True).stack().value_counts()\n",
    "res = actors.head(10)\n",
    "print(res)"
   ]
  },
  {
   "cell_type": "code",
   "execution_count": null,
   "metadata": {},
   "outputs": [],
   "source": [
    "#print all the actors\n",
    "print(actors.index.tolist())"
   ]
  }
 ],
 "metadata": {
  "kernelspec": {
   "display_name": "Python 3",
   "language": "python",
   "name": "python3"
  },
  "language_info": {
   "codemirror_mode": {
    "name": "ipython",
    "version": 3
   },
   "file_extension": ".py",
   "mimetype": "text/x-python",
   "name": "python",
   "nbconvert_exporter": "python",
   "pygments_lexer": "ipython3",
   "version": "3.11.9"
  }
 },
 "nbformat": 4,
 "nbformat_minor": 2
}
